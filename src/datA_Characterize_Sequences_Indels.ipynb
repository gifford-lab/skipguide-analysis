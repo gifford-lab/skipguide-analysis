{
 "cells": [
  {
   "cell_type": "markdown",
   "metadata": {},
   "source": [
    "# dat-A: Characterize Sequences and Repair Genotypes\n",
    "dat-A in this study refers to the set of repair outcomes observed in PostCas-Unspliced, their repair genotypes, their frequencies, and their associated gRNA. The code here extracts these information.\n",
    "\n",
    "See also 'inDelphi_Evaluation.ipynb' for final postprocessing and dat-A table export."
   ]
  },
  {
   "cell_type": "code",
   "execution_count": 1,
   "metadata": {},
   "outputs": [],
   "source": [
    "from config import *\n",
    "from utils import *\n",
    "\n",
    "import re\n",
    "import copy\n",
    "import numpy as np\n",
    "import collections\n",
    "import multiprocessing\n",
    "import pickle\n",
    "\n",
    "from tqdm.notebook import tqdm\n",
    "\n",
    "%matplotlib inline\n",
    "import matplotlib.pyplot as plt\n",
    "import seaborn as sns"
   ]
  },
  {
   "cell_type": "code",
   "execution_count": 2,
   "metadata": {},
   "outputs": [],
   "source": [
    "bc_grna_precas_map = load_bc_seq(BC_GRNA_PRECAS_MAP)\n",
    "bc_grna1_postcas_map = load_bc_seq(BC_GRNA1_POSTCAS_MAP)\n",
    "bc_grna2_postcas_map = load_bc_seq(BC_GRNA2_POSTCAS_MAP)\n",
    "\n",
    "bc_unspliced_precas_map = load_bc_seq(BC_UNSPLICED_PRECAS_MAP)\n",
    "bc_unspliced1_postcas_map = load_bc_seq(BC_UNSPLICED1_POSTCAS_MAP)\n",
    "bc_unspliced2_postcas_map = load_bc_seq(BC_UNSPLICED2_POSTCAS_MAP)\n",
    "\n",
    "bc_spliced_precas_map = load_bc_seq(BC_SPLICED_PRECAS_MAP)\n",
    "bc_spliced1_postcas_map = load_bc_seq(BC_SPLICED1_POSTCAS_MAP)\n",
    "bc_spliced2_postcas_map = load_bc_seq(BC_SPLICED2_POSTCAS_MAP)"
   ]
  },
  {
   "cell_type": "markdown",
   "metadata": {},
   "source": [
    "## Map Sequences to Design Library IDs\n",
    "We have previously constructed barcode:(sequence:counts) lookup tables (see Barcode_Sequence_Lookup_Tables.ipynb).\n",
    "But for a given sequence, what is the designed sequence? E.g. given a target sequence with indels after repair, what is the designed target sequence? Given a gRNA sequence, what is the designed gRNA ID in the library?\n",
    "\n",
    "In short, for a query sequence Q, we find the most similar designed sequence D from lib-SA. This is done by computing the Dice Coefficient between Q and D, using 5-mers, and picking the D that is most similar to Q. After doing this for all sequences, we can convert our barcode:{sequence:counts} lookup tables to barcode:{design_id:counts} lookup tables.\n",
    "\n",
    "We also discard anything that doesn't make sense. In particular, for a target sequence and gRNA sequence with the same barcode, if their designed versions do not pair (i.e. the designed gRNA doesn't target the designed target sequence), then we discard them from the lookup tables. This can happen due to sequencing errors in the barcodes, or some other systematic error.\n",
    "\n",
    "In the code, we call the designed gRNA ID as 'gid', and the designed target sequence ID as 'tid'."
   ]
  },
  {
   "cell_type": "code",
   "execution_count": 3,
   "metadata": {},
   "outputs": [],
   "source": [
    "def get_gid(obs_g):\n",
    "    if obs_g in exp_grna_gid_map:\n",
    "        return exp_grna_gid_map[obs_g][0], 0\n",
    "    \n",
    "    # Since obs_g is always len 19 or 20, we can use hamming distance\n",
    "    min_distance = float('inf')\n",
    "    best_design_gid = None\n",
    "    for design_g in exp_grna_gid_map:\n",
    "        if len(design_g) == len(obs_g):\n",
    "            distance = hamming_distance(design_g, obs_g)\n",
    "        else:\n",
    "            minlen, minseq = min((len(design_g), design_g), (len(obs_g), obs_g))\n",
    "            maxlen, maxseq = max((len(design_g), design_g), (len(obs_g), obs_g))\n",
    "            distance = min(hamming_distance(minseq, maxseq[0:minlen]),\n",
    "                           hamming_distance(minseq, maxseq[1:minlen + 1]))\n",
    "        if distance < min_distance:\n",
    "            min_distance = distance\n",
    "            best_design_gid, _ = exp_grna_gid_map[design_g]\n",
    "    return best_design_gid, min_distance\n",
    "\n",
    "\n",
    "def generate_bc_gid_map(bc_obs_g_map):\n",
    "    try:\n",
    "        p = multiprocessing.Pool(NUM_PROCESSES)\n",
    "\n",
    "        bc_design_gid_map = collections.defaultdict(lambda: collections.defaultdict(int))\n",
    "\n",
    "        obs_gs = list({obs_g for bc in tqdm(bc_obs_g_map) for obs_g in bc_obs_g_map[bc]})\n",
    "        design_gids = []\n",
    "        for design_gid, distance in tqdm(p.imap(get_gid, obs_gs, chunksize=1), total=len(obs_gs)):\n",
    "            design_gids.append(design_gid)\n",
    "\n",
    "        obs_design_gid_map = {obs_g:design_gids[i] for i, obs_g in enumerate(obs_gs)}\n",
    "\n",
    "        for bc in tqdm(bc_obs_g_map):\n",
    "            for obs_g in bc_obs_g_map[bc]:\n",
    "                bc_design_gid_map[bc][obs_design_gid_map[obs_g]] += bc_obs_g_map[bc][obs_g]\n",
    "\n",
    "        print('Num Unique BCs:', len(bc_obs_g_map))\n",
    "        print('(Before) Num Unambiguous BCs:', sum(len(bc_obs_g_map[bc]) == 1 for bc in bc_obs_g_map))\n",
    "        print('(After) Num Unambiguous BCs:', sum(len(bc_design_gid_map[bc]) == 1 for bc in bc_design_gid_map))\n",
    "    finally:\n",
    "        p.close()\n",
    "        p.join()\n",
    "    \n",
    "    return bc_design_gid_map"
   ]
  },
  {
   "cell_type": "markdown",
   "metadata": {},
   "source": [
    "### Map Barcode-gRNA to Barcode-gid"
   ]
  },
  {
   "cell_type": "code",
   "execution_count": 4,
   "metadata": {},
   "outputs": [],
   "source": [
    "# Output Dictionary format {bc: {gid: count}}\n",
    "\n",
    "if not pickle_exists(BC_GID_PRECAS_MAP):\n",
    "    bc_gid_precas_map = generate_bc_gid_map(bc_grna_precas_map)\n",
    "    save_bc_seq(bc_gid_precas_map, BC_GID_PRECAS_MAP)\n",
    "else:\n",
    "    bc_gid_precas_map = load_bc_seq(BC_GID_PRECAS_MAP)\n",
    "\n",
    "    \n",
    "if not pickle_exists(BC_GID1_POSTCAS_MAP):\n",
    "    bc_gid1_postcas_map = generate_bc_gid_map(bc_grna1_postcas_map)\n",
    "    save_bc_seq(bc_gid1_postcas_map, BC_GID1_POSTCAS_MAP)\n",
    "else:\n",
    "    bc_gid1_postcas_map = load_bc_seq(BC_GID1_POSTCAS_MAP)\n",
    "\n",
    "    \n",
    "if not pickle_exists(BC_GID2_POSTCAS_MAP):\n",
    "    bc_gid2_postcas_map = generate_bc_gid_map(bc_grna2_postcas_map)\n",
    "    save_bc_seq(bc_gid2_postcas_map, BC_GID2_POSTCAS_MAP)\n",
    "else:\n",
    "    bc_gid2_postcas_map = load_bc_seq(BC_GID2_POSTCAS_MAP)"
   ]
  },
  {
   "cell_type": "markdown",
   "metadata": {},
   "source": [
    "### Map Barcode-Target (PreCas Unspliced) to Barcode-gid"
   ]
  },
  {
   "cell_type": "code",
   "execution_count": 5,
   "metadata": {},
   "outputs": [],
   "source": [
    "K = 5\n",
    "design_t_kmers_map = {design_t:kmers(design_t, K) for design_t in exp_target_tid_map}\n",
    "\n",
    "def get_tid(obs_t):\n",
    "    if obs_t in exp_target_tid_map:\n",
    "        return exp_target_tid_map[obs_t], 1\n",
    "    \n",
    "    max_sim = -float('inf')\n",
    "    best_design_tid = None\n",
    "    for design_t in exp_target_tid_map:\n",
    "        if design_t in obs_t or obs_t in design_t:\n",
    "            return exp_target_tid_map[design_t], 1\n",
    "        \n",
    "        sim = dice_coefficient(obs_t, design_t_kmers_map[design_t], K)\n",
    "        if sim > max_sim:\n",
    "            max_sim = sim\n",
    "            best_design_tid = exp_target_tid_map[design_t]\n",
    "    return best_design_tid, max_sim\n",
    "\n",
    "\n",
    "def generate_bc_tid_map(bc_obs_t_map):\n",
    "    try:\n",
    "        p = multiprocessing.Pool(NUM_PROCESSES)\n",
    "\n",
    "        bc_design_tid_map = collections.defaultdict(lambda: collections.defaultdict(int))\n",
    "\n",
    "        obs_ts = list({obs_t for bc in tqdm(bc_obs_t_map) for obs_t in bc_obs_t_map[bc]})\n",
    "        design_tids = []\n",
    "        for design_tid, sim in tqdm(p.imap(get_tid, obs_ts, chunksize=1), total=len(obs_ts)):\n",
    "            if sim < 0.3:\n",
    "                design_tids.append(None)\n",
    "            else:\n",
    "                design_tids.append(design_tid)\n",
    "\n",
    "        obs_designids_map = {obs_t:design_tids[i] for i, obs_t in enumerate(obs_ts)}\n",
    "\n",
    "        for bc in tqdm(bc_obs_t_map):\n",
    "            for obs_t in bc_obs_t_map[bc]:\n",
    "                design_tid = obs_designids_map[obs_t]\n",
    "                if design_tid is None:\n",
    "                    continue\n",
    "                bc_design_tid_map[bc][design_tid] += bc_obs_t_map[bc][obs_t]\n",
    "\n",
    "        print(\"(Before) Num Unique BCs:\", len(bc_obs_t_map))\n",
    "        print(\"(Before) Num Unambiguous BCs:\", sum(len(bc_obs_t_map[bc]) == 1 for bc in bc_obs_t_map))\n",
    "        print(\"(After) Num Unique BCs:\", len(bc_design_tid_map))\n",
    "        print(\"(After) Num Unambiguous BCs:\", sum(len(bc_design_tid_map[bc]) == 1 for bc in bc_design_tid_map))\n",
    "    finally:\n",
    "        p.close()\n",
    "        p.join()\n",
    "\n",
    "    return bc_design_tid_map\n",
    "\n",
    "\n",
    "def bc_tid2gid_map(bc_tid_map):\n",
    "    bc_gid_map = collections.defaultdict(lambda: collections.defaultdict(int))\n",
    "    for bc in bc_tid_map:\n",
    "        for tid in bc_tid_map[bc]:\n",
    "            for gid in exp_tid_gids_map[tid]:\n",
    "                bc_gid_map[bc][gid] += bc_tid_map[bc][tid]\n",
    "    return bc_gid_map"
   ]
  },
  {
   "cell_type": "code",
   "execution_count": 6,
   "metadata": {},
   "outputs": [],
   "source": [
    "# Output Dictionary format {bc: {tid: count}}\n",
    "if not pickle_exists(BC_TID_UNSPLICED_PRECAS_MAP):\n",
    "    bc_tid_unspliced_precas_map = generate_bc_tid_map(bc_unspliced_precas_map)\n",
    "    save_bc_seq(bc_tid_unspliced_precas_map, BC_TID_UNSPLICED_PRECAS_MAP)\n",
    "else:\n",
    "    bc_tid_unspliced_precas_map = load_bc_seq(BC_TID_UNSPLICED_PRECAS_MAP)"
   ]
  },
  {
   "cell_type": "code",
   "execution_count": 7,
   "metadata": {},
   "outputs": [],
   "source": [
    "# Output Dictionary format {bc: {gid: count}}\n",
    "if not pickle_exists(BC_GID_UNSPLICED_PRECAS_MAP):\n",
    "    bc_gid_unspliced_precas_map = bc_tid2gid_map(bc_tid_unspliced_precas_map)\n",
    "    save_bc_seq(bc_gid_unspliced_precas_map, BC_GID_UNSPLICED_PRECAS_MAP)\n",
    "else:\n",
    "    bc_gid_unspliced_precas_map = load_bc_seq(BC_GID_UNSPLICED_PRECAS_MAP)"
   ]
  },
  {
   "cell_type": "markdown",
   "metadata": {},
   "source": [
    "## Identify and Characterize Repair Genotypes (indels)\n",
    "At this point, for a given observed target sequence (with indels due to repair), we know the original target sequence (as designed). We need to now characterize the indels.\n",
    "\n",
    "For example, say the target sequence is AGTC|AGTC, with | signifying the Cas9+gRNA cutsite. The observed sequence is AGT-|--TC, '-' meaning deletions. We can describe this indel by deletion size and starting position, i.e. in this example, the indel has a deletion size of 3, and genotype position of 1 to the left of the cutsite. Another example: AGTC|--TC, deletion size is 2, genotype position is 0."
   ]
  },
  {
   "cell_type": "markdown",
   "metadata": {},
   "source": [
    "### Map Barcode-Target (PostCas Unspliced) to Barcode-tid-indel"
   ]
  },
  {
   "cell_type": "code",
   "execution_count": 8,
   "metadata": {},
   "outputs": [],
   "source": [
    "def determine_product_type(tid_san_obs_t):\n",
    "    tid, san_obs_t = tid_san_obs_t    \n",
    "    design_t = exp_tid_target_map[tid]\n",
    "    no_indel_payload = [(design_t, 'N')]\n",
    "    cryptic_deletion_payload = [(san_obs_t, 'CD')]\n",
    "    cryptic_insertion_payload = [(san_obs_t, 'CI')]\n",
    "    cryptic_payload = [(san_obs_t, 'C')]\n",
    "    \n",
    "    HAM_DIST_THRES = 3\n",
    "    \n",
    "    # Classify as not an indel (wt) with leeway\n",
    "    if san_obs_t == design_t or san_obs_t in design_t or design_t in san_obs_t:\n",
    "        return no_indel_payload\n",
    "    \n",
    "    if len(san_obs_t) == len(design_t) and hamming_distance(san_obs_t, design_t) <= HAM_DIST_THRES:\n",
    "        return no_indel_payload\n",
    "    \n",
    "    if len(san_obs_t) < len(design_t) and hamming_distance(san_obs_t, design_t[0:len(san_obs_t)]) <= HAM_DIST_THRES:\n",
    "        return no_indel_payload\n",
    "    \n",
    "    if len(san_obs_t) > len(design_t) and hamming_distance(san_obs_t[0:len(design_t)], design_t) <= HAM_DIST_THRES:\n",
    "        return no_indel_payload\n",
    "    \n",
    "    # Deletion around cutsite? If so, figure out deletion size and position\n",
    "    if len(san_obs_t) < len(design_t):\n",
    "        deletion_size = len(design_t) - len(san_obs_t)\n",
    "        if deletion_size > MAX_INDEL_LEN:\n",
    "            return cryptic_deletion_payload\n",
    "        \n",
    "        simulations = []\n",
    "        min_distance = float('inf')\n",
    "        cutsites = get_cutsites(tid)\n",
    "        for cutsite in cutsites:            \n",
    "            for genotype_pos, simulated_product in generate_product(design_t, cutsite, deletion_size):\n",
    "                distance = hamming_distance(simulated_product, san_obs_t)\n",
    "                \n",
    "                if distance < min_distance:\n",
    "                    min_distance = distance\n",
    "                    simulations.append((min_distance, (simulated_product, genotype_pos, cutsite)))\n",
    "        if len(simulations) > 0 and min_distance <= HAM_DIST_THRES:\n",
    "            candidates = []\n",
    "            while simulations and simulations[-1][0] == min_distance:\n",
    "                simulated_product, genotype_pos, cutsite = simulations.pop()[1]\n",
    "                a = max(0, cutsite + genotype_pos - deletion_size - 3)\n",
    "                b = min(cutsite + genotype_pos - deletion_size + 3, len(simulated_product))\n",
    "                if simulated_product[a:b] == san_obs_t[a:b]:\n",
    "                    candidates.append((san_obs_t, 'D', deletion_size, genotype_pos, cutsite))\n",
    "                \n",
    "            if len(candidates) > 0:\n",
    "                return candidates\n",
    "        \n",
    "        return cryptic_deletion_payload\n",
    "    \n",
    "    # Insertion around cutsite? If so, figure out its identity\n",
    "    elif len(san_obs_t) > len(design_t):\n",
    "        cutsites = get_cutsites(tid)\n",
    "        for cutsite in cutsites:\n",
    "            prefix, suffix = design_t[5:cutsite], design_t[cutsite:-5]\n",
    "            prog = re.compile(prefix + '.+' + suffix)\n",
    "            m = prog.search(san_obs_t)\n",
    "            if m is not None:\n",
    "                insertion_start, insertion_end = m.start() + len(prefix), m.end() - len(suffix)\n",
    "                insertion_genotype = san_obs_t[insertion_start:insertion_end]\n",
    "                return [(san_obs_t, 'I', len(insertion_genotype), insertion_genotype, cutsite)]\n",
    "        return cryptic_insertion_payload\n",
    "    \n",
    "    # len(san_obs_t) == len(design_t) at this point.\n",
    "    # These have deletes AND inserts, and many of these are far from cutsites,\n",
    "    # so are likely sequencing errors or something.\n",
    "    # Ignore these; there aren't that many anyway.\n",
    "    return cryptic_payload\n",
    "\n",
    "\n",
    "def get_tid_indel(obs_t):\n",
    "    if obs_t in exp_target_tid_map:\n",
    "        return exp_target_tid_map[obs_t], 1\n",
    "    \n",
    "    max_sim = -float('inf')\n",
    "    best_design_tid = None\n",
    "    for design_t in exp_target_tid_map:\n",
    "        if design_t in obs_t or obs_t in design_t:\n",
    "            return exp_target_tid_map[design_t], 1\n",
    "        \n",
    "        sim = dice_coefficient(obs_t, design_t_kmers_map[design_t], K)\n",
    "        if sim > max_sim:\n",
    "            expected_sim = expected_dice_coefficient(len(design_t), len(obs_t), K)\n",
    "            if sim > expected_sim:\n",
    "                max_sim = sim\n",
    "                best_design_tid = exp_target_tid_map[design_t]\n",
    "    return best_design_tid, max_sim\n",
    "\n",
    "\n",
    "def _corroborate_indel(bc, tid, indels):\n",
    "    real_indels = []\n",
    "    other_indels = []\n",
    "    \n",
    "    for indel in indels:\n",
    "        if indel[1] == 'D' or indel[1] == 'I':\n",
    "            real_indels.append(indel)\n",
    "        else:\n",
    "            other_indels.append(indel)\n",
    "    \n",
    "    if len(real_indels) == 1:\n",
    "        san_obs_t, product_type, a, b, cutsite = real_indels[0]\n",
    "        return [(san_obs_t, product_type + 'S', a, b, cutsite)] + other_indels\n",
    "    \n",
    "    # Look up BC in bc_gid_unspliced_precas_map and see if the gid and query tid/indel makes sense\n",
    "    obs_gids = set()\n",
    "    if bc in bc_gid_precas_map:\n",
    "        for gid in bc_gid_precas_map[bc]:\n",
    "            obs_gids.add(gid)\n",
    "    if bc in bc_gid1_postcas_map:\n",
    "        for gid in bc_gid1_postcas_map[bc]:\n",
    "            obs_gids.add(gid)\n",
    "    if bc in bc_gid2_postcas_map:\n",
    "        for gid in bc_gid2_postcas_map[bc]:\n",
    "            obs_gids.add(gid)\n",
    "            \n",
    "    if len(obs_gids) == 0 or bc not in bc_gid_unspliced_precas_map:\n",
    "        return indels\n",
    "    \n",
    "    candidate_gids = obs_gids & bc_gid_unspliced_precas_map[bc].keys()\n",
    "    if len(candidate_gids) == 0:\n",
    "        return indels\n",
    "    \n",
    "    marked_real_indels = []\n",
    "    for indel in real_indels:\n",
    "        added = False\n",
    "        cutsite = indel[-1]\n",
    "        for gid in exp_tid_gids_map[tid]:\n",
    "            design_t = exp_tid_target_map[tid]\n",
    "            grna = exp_gid_grna_map[gid]\n",
    "            g_orientation = exp_grna_gid_map[grna][1]\n",
    "            if cutsite == get_cutsite(grna, design_t, g_orientation) and gid in candidate_gids:\n",
    "                san_obs_t, product_type, a, b, cutsite = indel\n",
    "                marked_real_indels.append((san_obs_t, product_type + 'S', a, b, cutsite))\n",
    "                added = True\n",
    "        if not added:\n",
    "            marked_real_indels.append(indel)\n",
    "    return marked_real_indels + other_indels\n",
    "\n",
    "\n",
    "def generate_bc_tid_indel_map(bc_t_postcas_map):\n",
    "    try:\n",
    "        p = multiprocessing.Pool(NUM_PROCESSES)\n",
    "\n",
    "        bc_tid_san_t_map = collections.defaultdict(lambda: collections.defaultdict(int))\n",
    "        bc_tid_indel_map = collections.defaultdict(lambda: collections.defaultdict(lambda: collections.defaultdict(int)))\n",
    "\n",
    "        obs_ts = list({obs_t for bc in tqdm(bc_t_postcas_map) for obs_t in bc_t_postcas_map[bc]})\n",
    "        tid_san_obs_ts = []\n",
    "        i = 0\n",
    "        for design_tid, sim in tqdm(p.imap(get_tid_indel, obs_ts, chunksize=1), total=len(obs_ts)):\n",
    "            if design_tid is not None:\n",
    "                design_t = exp_tid_target_map[design_tid]\n",
    "                san_obs_t = sanitize_postcas_unspliced(obs_ts[i], design_t)\n",
    "                tid_san_obs_ts.append((design_tid, san_obs_t))\n",
    "            else:\n",
    "                tid_san_obs_ts.append(None)\n",
    "            i += 1\n",
    "                \n",
    "        obs_tid_san_map = {obs_t:tid_san_obs_ts[i] for i, obs_t in enumerate(obs_ts)}\n",
    "        \n",
    "        for bc in tqdm(bc_t_postcas_map):\n",
    "            for obs_t in bc_t_postcas_map[bc]:\n",
    "                tid_san_obs_t = obs_tid_san_map[obs_t]\n",
    "                if tid_san_obs_t is not None:\n",
    "                    bc_tid_san_t_map[bc][obs_tid_san_map[obs_t]] += bc_t_postcas_map[bc][obs_t]\n",
    "                \n",
    "        tid_san_ts = list({tid_san for bc in tqdm(bc_tid_san_t_map) for tid_san in bc_tid_san_t_map[bc]})\n",
    "        tid_indels = []\n",
    "        for r in tqdm(p.imap(determine_product_type, tid_san_ts, chunksize=1), total=len(tid_san_ts)):\n",
    "            tid_indels.append(r)\n",
    "            \n",
    "        tid_san_tid_indel_map = {tid_san:tid_indels[i] for i, tid_san in enumerate(tid_san_ts)}\n",
    "            \n",
    "        for bc in tqdm(bc_tid_san_t_map):\n",
    "            for tid_san_t in bc_tid_san_t_map[bc]:\n",
    "                tid, _ = tid_san_t\n",
    "                \n",
    "                indels = _corroborate_indel(bc, tid, tid_san_tid_indel_map[tid_san_t])\n",
    "                for tid_indel in indels:\n",
    "                    bc_tid_indel_map[bc][tid][tid_indel] += bc_tid_san_t_map[bc][tid_san_t]\n",
    "        \n",
    "    finally:\n",
    "        p.close()\n",
    "        p.join()\n",
    "        \n",
    "    print('(Before) Num Unique BCs:', len(bc_t_postcas_map))\n",
    "    print('(After) Num Unique BCs:', len(bc_tid_indel_map))\n",
    "\n",
    "    return bc_tid_indel_map\n",
    "\n",
    "\n",
    "def bc_tidindel2_gidindel_map(bc_tid_indel_map):\n",
    "    bc_gid_indel_map = collections.defaultdict(lambda: collections.defaultdict(lambda: collections.defaultdict(int)))\n",
    "    for bc in tqdm(bc_tid_indel_map):\n",
    "        for tid in bc_tid_indel_map[bc]:\n",
    "            for indel in bc_tid_indel_map[bc][tid]:\n",
    "                if 'C' in indel[1] or 'N' in indel[1]:\n",
    "                    for gid in exp_tid_gids_map[tid]:\n",
    "                        bc_gid_indel_map[bc][gid][indel] += bc_tid_indel_map[bc][tid][indel]\n",
    "                else:\n",
    "                    cutsite = indel[-1]\n",
    "                    for gid in exp_tid_gids_map[tid]:\n",
    "                        design_t = exp_tid_target_map[tid]\n",
    "                        grna = exp_gid_grna_map[gid]\n",
    "                        g_orientation = exp_grna_gid_map[grna][1]\n",
    "                        if cutsite == get_cutsite(grna, design_t, g_orientation):\n",
    "                            bc_gid_indel_map[bc][gid][indel] += bc_tid_indel_map[bc][tid][indel]\n",
    "    return bc_gid_indel_map"
   ]
  },
  {
   "cell_type": "code",
   "execution_count": 9,
   "metadata": {},
   "outputs": [],
   "source": [
    "# Output Dictionary format {bc: {tid: {indel: count}}}\n",
    "if not pickle_exists(BC_TID_INDEL_POSTCAS_MAP):\n",
    "    bc_tid1_indel_postcas_map = generate_bc_tid_indel_map(bc_unspliced1_postcas_map)"
   ]
  },
  {
   "cell_type": "code",
   "execution_count": 10,
   "metadata": {},
   "outputs": [],
   "source": [
    "# Output Dictionary format {bc: {tid: {indel: count}}}\n",
    "if not pickle_exists(BC_TID_INDEL_POSTCAS_MAP):\n",
    "    bc_tid2_indel_postcas_map = generate_bc_tid_indel_map(bc_unspliced2_postcas_map)"
   ]
  },
  {
   "cell_type": "code",
   "execution_count": 11,
   "metadata": {},
   "outputs": [],
   "source": [
    "def merge_bc_tid_indel_maps(bc_tid1_indel_map, bc_tid2_indel_map):\n",
    "    bc_tid_indel_map = collections.defaultdict(lambda: collections.defaultdict(lambda: collections.defaultdict(int)))\n",
    "    \n",
    "    merged = 0\n",
    "    for bc in tqdm(bc_tid1_indel_map.keys() & bc_tid2_indel_map.keys()):\n",
    "        for tid in (bc_tid1_indel_map[bc].keys() & bc_tid2_indel_map[bc].keys()):\n",
    "            for indel in (bc_tid1_indel_map[bc][tid].keys() & bc_tid2_indel_map[bc][tid].keys()):\n",
    "                bc_tid_indel_map[bc][tid][indel] += np.mean([bc_tid1_indel_map[bc][tid][indel], bc_tid2_indel_map[bc][tid][indel]])\n",
    "                merged += 1\n",
    "    \n",
    "    for bc in tqdm(bc_tid1_indel_map):\n",
    "        for tid in bc_tid1_indel_map[bc]:\n",
    "            for indel in bc_tid1_indel_map[bc][tid]:\n",
    "                if not (bc in bc_tid_indel_map and tid in bc_tid_indel_map[bc] and indel in bc_tid_indel_map[bc][tid]):\n",
    "                    bc_tid_indel_map[bc][tid][indel] += bc_tid1_indel_map[bc][tid][indel]\n",
    "    for bc in tqdm(bc_tid2_indel_map):\n",
    "        for tid in bc_tid2_indel_map[bc]:\n",
    "            for indel in bc_tid2_indel_map[bc][tid]:\n",
    "                if not (bc in bc_tid_indel_map and tid in bc_tid_indel_map[bc] and indel in bc_tid_indel_map[bc][tid]):\n",
    "                    bc_tid_indel_map[bc][tid][indel] += bc_tid2_indel_map[bc][tid][indel]\n",
    "    \n",
    "    print(\"Num Common Indels:\", merged)\n",
    "    return bc_tid_indel_map"
   ]
  },
  {
   "cell_type": "code",
   "execution_count": 12,
   "metadata": {},
   "outputs": [],
   "source": [
    "# Output Dictionary format {bc: {tid: {indel: count}}}\n",
    "if not pickle_exists(BC_TID_INDEL_POSTCAS_MAP):\n",
    "    # PostCas replicate data are merged for larger power\n",
    "    bc_tid_indel_postcas_map = merge_bc_tid_indel_maps(bc_tid1_indel_postcas_map, bc_tid2_indel_postcas_map)\n",
    "    save_bc_id_indel(bc_tid_indel_postcas_map, BC_TID_INDEL_POSTCAS_MAP)\n",
    "else:\n",
    "    bc_tid_indel_postcas_map = load_bc_seq(BC_TID_INDEL_POSTCAS_MAP)"
   ]
  },
  {
   "cell_type": "code",
   "execution_count": 13,
   "metadata": {},
   "outputs": [],
   "source": [
    "# Output Dictionary format {bc: {gid: {indel: count}}}\n",
    "if not pickle_exists(BC_GID_INDEL_POSTCAS_MAP):\n",
    "    bc_gid_indel_postcas_map = bc_tidindel2_gidindel_map(bc_tid_indel_postcas_map)\n",
    "    save_bc_id_indel(bc_gid_indel_postcas_map, BC_GID_INDEL_POSTCAS_MAP)\n",
    "else:\n",
    "    bc_gid_indel_postcas_map = load_bc_seq(BC_GID_INDEL_POSTCAS_MAP)"
   ]
  },
  {
   "cell_type": "markdown",
   "metadata": {},
   "source": [
    "### Compute Empirical Indel Distribution\n",
    "We tabulate all the observed repair genotypes and their counts for a given designed gRNA/Target pair. We normalize the counts to yield repair frequencies."
   ]
  },
  {
   "cell_type": "code",
   "execution_count": 14,
   "metadata": {},
   "outputs": [],
   "source": [
    "def determine_postcas_product_distribution():\n",
    "    gt_indel_dist_map = collections.defaultdict(generate_empty_distribution)\n",
    "    \n",
    "    for bc in tqdm(bc_gid_indel_postcas_map):\n",
    "        for gid in bc_gid_indel_postcas_map[bc]:\n",
    "            for indel in bc_gid_indel_postcas_map[bc][gid]:\n",
    "                if indel[1] in DELETION_SIGNATURES:\n",
    "                    _, _, deletion_size, genotype_pos, cutsite = indel\n",
    "                    tid = exp_gid_tid_map[gid]\n",
    "                    design_t = exp_tid_target_map[tid]\n",
    "                    grna = exp_gid_grna_map[gid]\n",
    "                    g_orientation = exp_grna_gid_map[grna][1]\n",
    "                    pair = (grna, design_t, g_orientation)\n",
    "                    gt_indel_dist_map[pair][-deletion_size][genotype_pos] += bc_gid_indel_postcas_map[bc][gid][indel]\n",
    "                elif indel[1] in INSERTION_SIGNATURES and indel[2] == 1:\n",
    "                    _, _, _, inserted_base, cutsite =  indel\n",
    "                    tid = exp_gid_tid_map[gid]\n",
    "                    design_t = exp_tid_target_map[tid]\n",
    "                    grna = exp_gid_grna_map[gid]\n",
    "                    g_orientation = exp_grna_gid_map[grna][1]\n",
    "                    pair = (grna, design_t, g_orientation)\n",
    "                    gt_indel_dist_map[pair][1][inserted_base] += bc_gid_indel_postcas_map[bc][gid][indel]\n",
    "    return gt_indel_dist_map"
   ]
  },
  {
   "cell_type": "code",
   "execution_count": 15,
   "metadata": {},
   "outputs": [],
   "source": [
    "if not pickle_exists(UNNORM_GT_INDEL_DIST_MAP):\n",
    "    unnorm_gt_indel_dist_map = determine_postcas_product_distribution()\n",
    "    save_var(unnorm_gt_indel_dist_map, UNNORM_GT_INDEL_DIST_MAP)\n",
    "else:\n",
    "    unnorm_gt_indel_dist_map = load_var(UNNORM_GT_INDEL_DIST_MAP)"
   ]
  },
  {
   "cell_type": "code",
   "execution_count": 16,
   "metadata": {},
   "outputs": [
    {
     "name": "stdout",
     "output_type": "stream",
     "text": [
      "3963\n"
     ]
    }
   ],
   "source": [
    "print(len(unnorm_gt_indel_dist_map))"
   ]
  },
  {
   "cell_type": "code",
   "execution_count": 17,
   "metadata": {},
   "outputs": [],
   "source": [
    "def plot_numproducts_distributions():\n",
    "    num_products = []\n",
    "    num_unique_products = []\n",
    "    for gt in tqdm(unnorm_gt_indel_dist_map):\n",
    "        distribution = unnorm_gt_indel_dist_map[gt]\n",
    "        distribution_list, _ = distribution_to_list(distribution)\n",
    "        total = float(sum(distribution_list))\n",
    "        num_products.append(total)\n",
    "        num_unique_products.append(sum(p > 0 for p in distribution_list))\n",
    "    fig, ax = plt.subplots(1, 2, figsize=(15,5))\n",
    "    sns.distplot(num_products, ax=ax[0])\n",
    "    ax[0].set(xlabel='Num Products Observed', ylabel='Frequency', title='Distribution of Interpretable Reads per Guide/Target pair')\n",
    "    sns.distplot(num_unique_products, ax=ax[1])\n",
    "    ax[1].set(xlabel='Num Unique Products Observed', ylabel='Frequency', title='Distribution of Unique Products per Guide/Target pair')\n",
    "    plt.show()"
   ]
  },
  {
   "cell_type": "code",
   "execution_count": 18,
   "metadata": {},
   "outputs": [
    {
     "data": {
      "application/vnd.jupyter.widget-view+json": {
       "model_id": "3ca909f637c94392a31a9ecda260494d",
       "version_major": 2,
       "version_minor": 0
      },
      "text/plain": [
       "HBox(children=(FloatProgress(value=0.0, max=3963.0), HTML(value='')))"
      ]
     },
     "metadata": {},
     "output_type": "display_data"
    },
    {
     "name": "stdout",
     "output_type": "stream",
     "text": [
      "\n"
     ]
    },
    {
     "name": "stderr",
     "output_type": "stream",
     "text": [
      "/data/gl/g6/wlouie/anaconda3/envs/skipguide_data_processing/lib/python3.7/site-packages/scipy/stats/stats.py:1713: FutureWarning: Using a non-tuple sequence for multidimensional indexing is deprecated; use `arr[tuple(seq)]` instead of `arr[seq]`. In the future this will be interpreted as an array index, `arr[np.array(seq)]`, which will result either in an error or a different result.\n",
      "  return np.add.reduce(sorted[indexer] * weights, axis=axis) / sumval\n"
     ]
    },
    {
     "data": {
      "image/png": "[encoded data removed]",
      "text/plain": [
       "<Figure size 1080x360 with 2 Axes>"
      ]
     },
     "metadata": {
      "needs_background": "light"
     },
     "output_type": "display_data"
    }
   ],
   "source": [
    "plot_numproducts_distributions()"
   ]
  },
  {
   "cell_type": "code",
   "execution_count": 19,
   "metadata": {},
   "outputs": [],
   "source": [
    "if not pickle_exists(GT_INDEL_DIST_MAP):\n",
    "    gt_indel_dist_map = copy.deepcopy(unnorm_gt_indel_dist_map)\n",
    "\n",
    "    for gt in tqdm(gt_indel_dist_map):\n",
    "        distribution = gt_indel_dist_map[gt]\n",
    "        normalize_distribution(distribution)\n",
    "    save_var(gt_indel_dist_map, GT_INDEL_DIST_MAP)\n",
    "else:\n",
    "    gt_indel_dist_map = load_var(GT_INDEL_DIST_MAP)"
   ]
  },
  {
   "cell_type": "code",
   "execution_count": 20,
   "metadata": {},
   "outputs": [],
   "source": [
    "def plot_indel_types():\n",
    "    deletions = 0\n",
    "    insertions_1bp = 0\n",
    "    insertions_multiplebp = 0\n",
    "    combo_indels = 0\n",
    "    \n",
    "    tid_set = set()\n",
    "    for bc in tqdm(bc_tid_indel_postcas_map):\n",
    "        for tid in bc_tid_indel_postcas_map[bc]:\n",
    "            for indel in bc_tid_indel_postcas_map[bc][tid]:\n",
    "                count = bc_tid_indel_postcas_map[bc][tid][indel]\n",
    "                if indel[1] == 'D' or indel[1] == 'DS':\n",
    "                    deletions += count\n",
    "                    tid_set.add(tid)\n",
    "                elif indel[1] == 'I' or indel[1] == 'IS':\n",
    "                    tid_set.add(tid)\n",
    "                    if indel[2] == 1:\n",
    "                        insertions_1bp += count\n",
    "                    else:\n",
    "                        insertions_multiplebp += count\n",
    "                elif indel[1] == 'C':\n",
    "                    tid_set.add(tid)\n",
    "                    combo_indels += count\n",
    "\n",
    "    d = [deletions, insertions_1bp, insertions_multiplebp, combo_indels]\n",
    "    labels = ['Deletions', '1bp Insertions', '>1bp Insertion', 'Combo Indels']\n",
    "    plt.pie(d, labels=labels, autopct='%1.1f%%')\n",
    "    plt.title('Categories of Repair')\n",
    "    plt.show()"
   ]
  },
  {
   "cell_type": "markdown",
   "metadata": {},
   "source": [
    "### Figure 2A (before aesthetic augmentation)"
   ]
  },
  {
   "cell_type": "code",
   "execution_count": 21,
   "metadata": {},
   "outputs": [
    {
     "data": {
      "application/vnd.jupyter.widget-view+json": {
       "model_id": "cad446a2bc6b48959475dc55e62e6589",
       "version_major": 2,
       "version_minor": 0
      },
      "text/plain": [
       "HBox(children=(FloatProgress(value=0.0, max=2216435.0), HTML(value='')))"
      ]
     },
     "metadata": {},
     "output_type": "display_data"
    },
    {
     "name": "stdout",
     "output_type": "stream",
     "text": [
      "\n"
     ]
    },
    {
     "data": {
      "image/png": "[encoded data removed]",
      "text/plain": [
       "<Figure size 432x288 with 1 Axes>"
      ]
     },
     "metadata": {},
     "output_type": "display_data"
    }
   ],
   "source": [
    "plot_indel_types()"
   ]
  }
 ],
 "metadata": {
  "kernelspec": {
   "display_name": "Python [conda env:skipguide_data_processing] *",
   "language": "python",
   "name": "conda-env-skipguide_data_processing-py"
  },
  "language_info": {
   "codemirror_mode": {
    "name": "ipython",
    "version": 3
   },
   "file_extension": ".py",
   "mimetype": "text/x-python",
   "name": "python",
   "nbconvert_exporter": "python",
   "pygments_lexer": "ipython3",
   "version": "3.7.5"
  }
 },
 "nbformat": 4,
 "nbformat_minor": 2
}
