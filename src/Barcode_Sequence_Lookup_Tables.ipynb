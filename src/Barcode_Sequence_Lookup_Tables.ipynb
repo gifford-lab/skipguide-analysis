{
 "cells": [
  {
   "cell_type": "code",
   "execution_count": 1,
   "metadata": {},
   "outputs": [],
   "source": [
    "from config import *\n",
    "from utils import *\n",
    "\n",
    "import csv\n",
    "import numpy as np\n",
    "import collections\n",
    "import multiprocessing\n",
    "import pickle\n",
    "\n",
    "from tqdm.notebook import tqdm"
   ]
  },
  {
   "cell_type": "markdown",
   "metadata": {},
   "source": [
    "# Barcode - Sequence Filter and Group\n",
    "The code here processes the previously extracted sequence, barcode, and quality (see Sequence_Extraction.ipynb).\n",
    "\n",
    "## Quality filtering\n",
    "Any sequence or barcode that contained at least one base with Phred quality score less than 11 (less than 90% base call accuracy) is rejected.\n",
    "\n",
    "## Create Barcode : Sequence (and counts) Lookup Tables\n",
    "Create and pickle dictionaries with barcodes as keys, and sequence:counts as values. This way we can look up sequences associated with a barcode efficiently for later analysis."
   ]
  },
  {
   "cell_type": "code",
   "execution_count": 2,
   "metadata": {},
   "outputs": [],
   "source": [
    "def generate_bc_seq_map(bc_seq_fn, bc_qual_thres=20, seq_qual_thres=11):\n",
    "    bc_seq_map = collections.defaultdict(lambda: collections.defaultdict(int))\n",
    "    accepted = 0\n",
    "    rejected = 0\n",
    "    with open(bc_seq_fn, newline='') as csvfile:\n",
    "        csvreader = csv.reader(csvfile)\n",
    "        for line in tqdm(csvreader):\n",
    "            if len(line) == 3 and line[2] == 'SKIPPED':\n",
    "                bc, bc_qual, seq = line\n",
    "                if is_good_quality(bc_qual, bc_qual_thres):\n",
    "                    bc_seq_map[bc][seq] += 1\n",
    "                    accepted += 1\n",
    "                else:\n",
    "                    rejected += 1\n",
    "            else:\n",
    "                bc, bc_qual, seq, seq_qual = line\n",
    "                if is_good_quality(bc_qual, bc_qual_thres) and is_good_quality(seq_qual, seq_qual_thres):\n",
    "                    bc_seq_map[bc][seq] += 1\n",
    "                    accepted += 1\n",
    "                else:\n",
    "                    rejected += 1\n",
    "    print(\"Accepted:\", accepted)\n",
    "    print(\"Rejected:\", rejected)\n",
    "    print(\"Total Instances:\", accepted + rejected)\n",
    "    return bc_seq_map"
   ]
  },
  {
   "cell_type": "markdown",
   "metadata": {},
   "source": [
    "## Barcode - gRNA Sequence Filter and Group"
   ]
  },
  {
   "cell_type": "code",
   "execution_count": 3,
   "metadata": {},
   "outputs": [],
   "source": [
    "# Output Dictionary format {bc: {seq: count}}\n",
    "\n",
    "if not pickle_exists(BC_GRNA_PRECAS_MAP):\n",
    "    bc_grna_precas_map = generate_bc_seq_map(PRECAS_GDNA_BC_SEQ, BC_QUAL_THRES, SEQ_QUAL_THRES)\n",
    "    save_bc_seq(bc_grna_precas_map, BC_GRNA_PRECAS_MAP)\n",
    "    # Stats:\n",
    "    # Accepted: 5711756\n",
    "    # Rejected: 1159\n",
    "    # Total Instances: 5712915\n",
    "\n",
    "if not pickle_exists(BC_GRNA1_POSTCAS_MAP):\n",
    "    bc_grna1_postcas_map = generate_bc_seq_map(POSTCAS_GDNA1_BC_SEQ, BC_QUAL_THRES, SEQ_QUAL_THRES)\n",
    "    save_bc_seq(bc_grna1_postcas_map, BC_GRNA1_POSTCAS_MAP)\n",
    "    # Stats:\n",
    "    # Accepted: 4875055\n",
    "    # Rejected: 981\n",
    "    # Total Instances: 4876036\n",
    "\n",
    "if not pickle_exists(BC_GRNA2_POSTCAS_MAP):\n",
    "    bc_grna2_postcas_map = generate_bc_seq_map(POSTCAS_GDNA2_BC_SEQ, BC_QUAL_THRES, SEQ_QUAL_THRES)\n",
    "    save_bc_seq(bc_grna2_postcas_map, BC_GRNA2_POSTCAS_MAP)\n",
    "    # Stats:\n",
    "    # Accepted: 3032287\n",
    "    # Rejected: 622\n",
    "    # Total Instances: 3032909"
   ]
  },
  {
   "cell_type": "markdown",
   "metadata": {},
   "source": [
    "## Barcode - Target Sequence (Unspliced) Filter and Group"
   ]
  },
  {
   "cell_type": "code",
   "execution_count": 4,
   "metadata": {},
   "outputs": [],
   "source": [
    "# Output Dictionary format {bc: {seq: count}}\n",
    "\n",
    "if not pickle_exists(BC_UNSPLICED_PRECAS_MAP):\n",
    "    bc_unspliced_precas_map = generate_bc_seq_map(PRECAS_UNSPLICED_BC_SEQ, BC_QUAL_THRES, SEQ_QUAL_THRES)\n",
    "    save_bc_seq(bc_unspliced_precas_map, BC_UNSPLICED_PRECAS_MAP)\n",
    "    # Stats:\n",
    "    # Accepted: 14998547\n",
    "    # Rejected: 4198\n",
    "    # Total Instances: 15002745\n",
    "\n",
    "if not pickle_exists(BC_UNSPLICED1_POSTCAS_MAP):\n",
    "    bc_unspliced1_postcas_map = generate_bc_seq_map(POSTCAS_UNSPLICED1_BC_SEQ, BC_QUAL_THRES, SEQ_QUAL_THRES)\n",
    "    sanitize(bc_unspliced1_postcas_map)\n",
    "    save_bc_seq(bc_unspliced1_postcas_map, BC_UNSPLICED1_POSTCAS_MAP)\n",
    "    # Stats:\n",
    "    # Accepted: 21286282\n",
    "    # Rejected: 6125\n",
    "    # Total Instances: 21292407\n",
    "\n",
    "if not pickle_exists(BC_UNSPLICED2_POSTCAS_MAP):\n",
    "    bc_unspliced2_postcas_map = generate_bc_seq_map(POSTCAS_UNSPLICED2_BC_SEQ, BC_QUAL_THRES, SEQ_QUAL_THRES)\n",
    "    sanitize(bc_unspliced2_postcas_map)\n",
    "    save_bc_seq(bc_unspliced2_postcas_map, BC_UNSPLICED2_POSTCAS_MAP)\n",
    "    # Stats:\n",
    "    # Accepted: 23138618\n",
    "    # Rejected: 6712\n",
    "    # Total Instances: 23145330"
   ]
  },
  {
   "cell_type": "markdown",
   "metadata": {},
   "source": [
    "## Barcode - Target Sequence (Spliced) Filter and Group"
   ]
  },
  {
   "cell_type": "code",
   "execution_count": 5,
   "metadata": {},
   "outputs": [],
   "source": [
    "# Output Dictionary format {bc: {seq: count}}\n",
    "\n",
    "if not pickle_exists(BC_SPLICED_PRECAS_MAP):\n",
    "    bc_spliced_precas_map = generate_bc_seq_map(PRECAS_SPLICED_BC_SEQ, BC_QUAL_THRES, SEQ_QUAL_THRES)\n",
    "    save_bc_seq(bc_spliced_precas_map, BC_SPLICED_PRECAS_MAP)\n",
    "    # Stats:\n",
    "    # Accepted: 4218814\n",
    "    # Rejected: 688\n",
    "    # Total Instances: 4219502\n",
    "\n",
    "if not pickle_exists(BC_SPLICED1_POSTCAS_MAP):\n",
    "    bc_spliced1_postcas_map = generate_bc_seq_map(POSTCAS_SPLICED1_BC_SEQ, BC_QUAL_THRES, SEQ_QUAL_THRES)\n",
    "    save_bc_seq(bc_spliced1_postcas_map, BC_SPLICED1_POSTCAS_MAP)\n",
    "    # Stats:\n",
    "    # Accepted: 5475016\n",
    "    # Rejected: 911\n",
    "    # Total Instances: 5475927\n",
    "\n",
    "if not pickle_exists(BC_SPLICED2_POSTCAS_MAP):\n",
    "    bc_spliced2_postcas_map = generate_bc_seq_map(POSTCAS_SPLICED2_BC_SEQ, BC_QUAL_THRES, SEQ_QUAL_THRES)\n",
    "    save_bc_seq(bc_spliced2_postcas_map, BC_SPLICED2_POSTCAS_MAP)\n",
    "    # Stats:\n",
    "    # Accepted: 8034262\n",
    "    # Rejected: 1216\n",
    "    # Total Instances: 8035478"
   ]
  },
  {
   "cell_type": "code",
   "execution_count": null,
   "metadata": {},
   "outputs": [],
   "source": []
  }
 ],
 "metadata": {
  "kernelspec": {
   "display_name": "Python [conda env:skipguide_data_processing] *",
   "language": "python",
   "name": "conda-env-skipguide_data_processing-py"
  },
  "language_info": {
   "codemirror_mode": {
    "name": "ipython",
    "version": 3
   },
   "file_extension": ".py",
   "mimetype": "text/x-python",
   "name": "python",
   "nbconvert_exporter": "python",
   "pygments_lexer": "ipython3",
   "version": "3.7.5"
  }
 },
 "nbformat": 4,
 "nbformat_minor": 2
}
